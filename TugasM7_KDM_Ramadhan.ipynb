{
  "nbformat": 4,
  "nbformat_minor": 0,
  "metadata": {
    "colab": {
      "provenance": [],
      "gpuType": "T4",
      "authorship_tag": "ABX9TyOsaYN8W6VafzbpFhOw1KVZ",
      "include_colab_link": true
    },
    "kernelspec": {
      "name": "python3",
      "display_name": "Python 3"
    },
    "language_info": {
      "name": "python"
    },
    "accelerator": "GPU"
  },
  "cells": [
    {
      "cell_type": "markdown",
      "metadata": {
        "id": "view-in-github",
        "colab_type": "text"
      },
      "source": [
        "<a href=\"https://colab.research.google.com/github/zainoor/M7-DataMining/blob/main/TugasM7_KDM_Ramadhan.ipynb\" target=\"_parent\"><img src=\"https://colab.research.google.com/assets/colab-badge.svg\" alt=\"Open In Colab\"/></a>"
      ]
    },
    {
      "cell_type": "code",
      "source": [
        "import numpy as np\n",
        "import pandas as pd\n",
        "import time\n",
        "from sklearn.cluster import KMeans, AgglomerativeClustering\n",
        "from sklearn.preprocessing import StandardScaler\n",
        "from scipy.cluster.hierarchy import dendrogram, linkage\n",
        "import matplotlib.pyplot as plt"
      ],
      "metadata": {
        "id": "b1TeZ6hX3jX8"
      },
      "execution_count": null,
      "outputs": []
    },
    {
      "cell_type": "code",
      "source": [
        "# Load the fraud dataset\n",
        "print(\"Loading fraudTrain.csv dataset...\")\n",
        "df = pd.read_csv(\"fraudTrain.csv\")\n",
        "print(f\"Dataset shape: {df.shape}\")\n",
        "\n",
        "# Preprocess the dataset: Select numerical features and handle NaN/inf values\n",
        "print(\"\\nPreprocessing data for clustering...\")\n",
        "# Select numerical features relevant for clustering\n",
        "numerical_features = ['amt', 'lat', 'long', 'city_pop', 'unix_time', 'merch_lat', 'merch_long']\n",
        "df_selected = df[numerical_features].copy()\n",
        "\n",
        "# Check for NaN or inf values\n",
        "print(\"Checking for NaN or inf values in the selected features...\")\n",
        "nan_mask = df_selected.isna().any(axis=1)\n",
        "inf_mask = np.isinf(df_selected).any(axis=1)\n",
        "invalid_mask = nan_mask | inf_mask\n",
        "\n",
        "# Impute NaN values with the median of each column\n",
        "if nan_mask.sum() > 0:\n",
        "    print(f\"Found {nan_mask.sum()} rows with NaN values. Imputing with column medians...\")\n",
        "    for col in numerical_features:\n",
        "        median_val = df_selected[col].median()\n",
        "        df_selected[col] = df_selected[col].fillna(median_val)\n",
        "else:\n",
        "    print(\"No NaN values found in the selected features.\")\n",
        "\n",
        "# Impute inf values with the maximum finite value of each column\n",
        "if inf_mask.sum() > 0:\n",
        "    print(f\"Found {inf_mask.sum()} rows with inf values. Imputing with max finite values...\")\n",
        "    for col in numerical_features:\n",
        "        finite_vals = df_selected[col][~np.isinf(df_selected[col])]\n",
        "        max_finite = finite_vals.max() if len(finite_vals) > 0 else 0\n",
        "        min_finite = finite_vals.min() if len(finite_vals) > 0 else 0\n",
        "        df_selected[col] = df_selected[col].replace(np.inf, max_finite)\n",
        "        df_selected[col] = df_selected[col].replace(-np.inf, min_finite)\n",
        "else:\n",
        "    print(\"No inf values found in the selected features.\")\n",
        "\n",
        "# Verify dataset size after imputation\n",
        "print(f\"Dataset shape after imputation: {df_selected.shape}\")\n",
        "assert df_selected.shape[0] >= 100000, f\"Dataset size {df_selected.shape[0]} is less than 100,000 after preprocessing!\"\n",
        "\n",
        "# Convert to numpy array\n",
        "data = df_selected.values\n",
        "\n",
        "# Standardize the features\n",
        "scaler = StandardScaler()\n",
        "data = scaler.fit_transform(data)\n",
        "print(f\"Preprocessed dataset shape: {data.shape}\")"
      ],
      "metadata": {
        "colab": {
          "base_uri": "https://localhost:8080/"
        },
        "id": "jUgVFL-D-kPu",
        "outputId": "f93388e6-d266-4c8f-df4f-0a4d83ca44d2"
      },
      "execution_count": null,
      "outputs": [
        {
          "output_type": "stream",
          "name": "stdout",
          "text": [
            "Loading fraudTrain.csv dataset...\n",
            "Dataset shape: (100002, 23)\n",
            "\n",
            "Preprocessing data for clustering...\n",
            "Checking for NaN or inf values in the selected features...\n",
            "Found 47081 rows with NaN values. Imputing with column medians...\n",
            "No inf values found in the selected features.\n",
            "Dataset shape after imputation: (100002, 7)\n",
            "Preprocessed dataset shape: (100002, 7)\n"
          ]
        }
      ]
    },
    {
      "cell_type": "code",
      "source": [
        "# 1. KMeans Clustering\n",
        "print(\"Running KMeans...\")\n",
        "start_time = time.time()\n",
        "kmeans = KMeans(n_clusters=5, random_state=42)\n",
        "kmeans_labels = kmeans.fit_predict(data)\n",
        "kmeans_time = time.time() - start_time"
      ],
      "metadata": {
        "id": "LgdHGj69AiDw",
        "colab": {
          "base_uri": "https://localhost:8080/"
        },
        "outputId": "aeac46ec-e5ab-4f34-983e-7a3280b8796e"
      },
      "execution_count": null,
      "outputs": [
        {
          "output_type": "stream",
          "name": "stdout",
          "text": [
            "Running KMeans...\n"
          ]
        }
      ]
    },
    {
      "cell_type": "code",
      "source": [
        "# 1. KMeans Clustering\n",
        "print(\"Running KMeans...\")\n",
        "start_time = time.time()\n",
        "kmeans = KMeans(n_clusters=5, random_state=42)\n",
        "kmeans_labels = kmeans.fit_predict(data)\n",
        "kmeans_time = time.time() - start_time\n",
        "\n",
        "# KMeans outputs\n",
        "print(\"KMeans Centroids (standardized):\")\n",
        "print(kmeans.cluster_centers_)\n",
        "print(\"KMeans Cluster Assignments (first 10 samples):\")\n",
        "print(kmeans_labels[:10])\n",
        "print(f\"KMeans Processing Time: {kmeans_time:.2f} seconds\")"
      ],
      "metadata": {
        "id": "Eqm3n1UYBC2V",
        "colab": {
          "base_uri": "https://localhost:8080/"
        },
        "outputId": "8fb427f6-ed66-43c3-cfb0-d816edbcf9f6"
      },
      "execution_count": null,
      "outputs": [
        {
          "output_type": "stream",
          "name": "stdout",
          "text": [
            "Running KMeans...\n",
            "KMeans Centroids (standardized):\n",
            "[[ 0.39538714  0.66795757  0.77884709 -0.09621287  1.214616    0.67804982\n",
            "   0.79129486]\n",
            " [ 0.14987127  0.69065943 -2.60634974  0.04522275  0.01602573  0.69919644\n",
            "  -2.59859635]\n",
            " [-0.11404378  0.20033352  0.21107349 -0.16792132 -0.25224084  0.19449463\n",
            "   0.20526876]\n",
            " [ 0.15125367 -0.89559606 -0.73835626  6.58306647 -0.0126897  -0.88495392\n",
            "  -0.72838275]\n",
            " [ 0.07176325 -1.87208892 -0.18628319  0.03120739  0.05994878 -1.85967925\n",
            "  -0.17573625]]\n",
            "KMeans Cluster Assignments (first 10 samples):\n",
            "[2 2 1 2 2 2 2 2 2 2]\n",
            "KMeans Processing Time: 0.27 seconds\n"
          ]
        }
      ]
    },
    {
      "cell_type": "code",
      "source": [
        "# 2. Hierarchical Agglomerative Clustering (Dendrogram)\n",
        "print(\"Running Hierarchical Agglomerative Clustering...\")\n",
        "# Subsample for dendrogram to avoid memory issues (dendrogram visualization is heavy)\n",
        "subset_data = data[np.random.choice(data.shape[0], 1000, replace=False)]\n",
        "start_time = time.time()\n",
        "Z = linkage(subset_data, method='ward')\n",
        "hierarchical_time = time.time() - start_time\n",
        "\n",
        "# Plot and save dendrogram\n",
        "plt.figure(figsize=(10, 7))\n",
        "dendrogram(Z)\n",
        "plt.title(\"Hierarchical Agglomerative Dendrogram\")\n",
        "plt.xlabel(\"Sample Index\")\n",
        "plt.ylabel(\"Distance\")\n",
        "# plt.savefig(\"dendrogram.png\")\n",
        "plt.show()\n",
        "# print(\"Dendrogram saved as 'dendrogram.png'\")\n",
        "print(f\"Hierarchical Agglomerative Processing Time: {hierarchical_time:.2f} seconds\")"
      ],
      "metadata": {
        "id": "mWRNa9czBHgi",
        "colab": {
          "base_uri": "https://localhost:8080/",
          "height": 576
        },
        "outputId": "cf58ac24-50e9-4aef-9e74-12e72cfed991"
      },
      "execution_count": null,
      "outputs": [
        {
          "output_type": "stream",
          "name": "stdout",
          "text": [
            "Running Hierarchical Agglomerative Clustering...\n"
          ]
        },
        {
          "output_type": "display_data",
          "data": {
            "text/plain": [
              "<Figure size 1000x700 with 1 Axes>"
            ],
            "image/png": "[encoded data removed]"
          },
          "metadata": {}
        },
        {
          "output_type": "stream",
          "name": "stdout",
          "text": [
            "Hierarchical Agglomerative Processing Time: 0.02 seconds\n"
          ]
        }
      ]
    },
    {
      "cell_type": "code",
      "source": [
        "# 3. Kohonen SOM (Self-Organizing Map) - Custom Implementation\n",
        "print(\"Running Kohonen SOM...\")\n",
        "class KohonenSOM:\n",
        "    def __init__(self, map_size, input_dim, learning_rate=0.1, sigma=None):\n",
        "        self.map_size = map_size  # (rows, cols)\n",
        "        self.input_dim = input_dim\n",
        "        self.learning_rate = learning_rate\n",
        "        self.sigma = sigma if sigma is not None else max(map_size) / 2\n",
        "        # Initialize weights randomly\n",
        "        self.weights = np.random.rand(map_size[0], map_size[1], input_dim)\n",
        "\n",
        "    def find_bmu(self, x):\n",
        "        # Find Best Matching Unit (BMU) using Euclidean distance\n",
        "        distances = np.linalg.norm(self.weights - x, axis=2)\n",
        "        return np.unravel_index(np.argmin(distances), self.map_size)\n",
        "\n",
        "    def update_weights(self, x, bmu, iteration, max_iterations):\n",
        "        # Update weights based on neighborhood and learning rate\n",
        "        lr = self.learning_rate * (1 - iteration / max_iterations)\n",
        "        sigma = self.sigma * (1 - iteration / max_iterations)\n",
        "        for i in range(self.map_size[0]):\n",
        "            for j in range(self.map_size[1]):\n",
        "                distance_to_bmu = np.linalg.norm(np.array([i, j]) - np.array(bmu))\n",
        "                if distance_to_bmu < sigma:\n",
        "                    influence = np.exp(-distance_to_bmu**2 / (2 * sigma**2))\n",
        "                    self.weights[i, j] += lr * influence * (x - self.weights[i, j])\n",
        "\n",
        "    def fit(self, data, num_iterations):\n",
        "        for iteration in range(num_iterations):\n",
        "            # Use a random sample for training\n",
        "            x = data[np.random.randint(0, len(data))]\n",
        "            bmu = self.find_bmu(x)\n",
        "            self.update_weights(x, bmu, iteration, num_iterations)\n",
        "\n",
        "    def predict(self, data):\n",
        "        labels = np.zeros(len(data), dtype=int)\n",
        "        for i, x in enumerate(data):\n",
        "            bmu = self.find_bmu(x)\n",
        "            labels[i] = bmu[0] * self.map_size[1] + bmu[1]  # Convert 2D index to 1D label\n",
        "        return labels"
      ],
      "metadata": {
        "id": "PQlIxZ0uBQAD",
        "colab": {
          "base_uri": "https://localhost:8080/"
        },
        "outputId": "985be237-265b-49e5-f297-aae2e5fd95a9"
      },
      "execution_count": null,
      "outputs": [
        {
          "output_type": "stream",
          "name": "stdout",
          "text": [
            "Running Kohonen SOM...\n"
          ]
        }
      ]
    },
    {
      "cell_type": "code",
      "source": [
        "# Train SOM\n",
        "start_time = time.time()\n",
        "som = KohonenSOM(map_size=(5, 5), input_dim=data.shape[1])\n",
        "som.fit(data, num_iterations=1000)\n",
        "som_labels = som.predict(data)\n",
        "som_time = time.time() - start_time"
      ],
      "metadata": {
        "id": "3WEYHG3SBjAv"
      },
      "execution_count": null,
      "outputs": []
    },
    {
      "cell_type": "code",
      "source": [
        "# SOM outputs\n",
        "print(\"Kohonen SOM Weights:\")\n",
        "print(som.weights)\n",
        "print(\"SOM Cluster Assignments (first 10 samples):\")\n",
        "print(som_labels[:10])\n",
        "print(f\"Kohonen SOM Processing Time: {som_time:.2f} seconds\")"
      ],
      "metadata": {
        "id": "6mjweaz0Bubf",
        "colab": {
          "base_uri": "https://localhost:8080/"
        },
        "outputId": "81725bea-1458-43ce-f1ac-0685c91bfbd7"
      },
      "execution_count": null,
      "outputs": [
        {
          "output_type": "stream",
          "name": "stdout",
          "text": [
            "Kohonen SOM Weights:\n",
            "[[[ 0.55553249  1.10657495 -2.37143954  0.02532822  0.02530846\n",
            "    1.10518474 -2.36039696]\n",
            "  [ 0.17102023 -0.13603953 -2.17428243  0.59262134  0.15549385\n",
            "   -0.1077818  -2.1678162 ]\n",
            "  [-0.13002455 -1.23106243 -1.28516348  1.38369583 -0.21989381\n",
            "   -1.17677273 -1.26015658]\n",
            "  [-0.25165705 -1.67817465 -0.52527976  0.33539678 -0.60854434\n",
            "   -1.6397283  -0.50239107]\n",
            "  [-0.08313644 -2.06558362 -0.195261    0.15472297  0.23403203\n",
            "   -2.04586822 -0.15796033]]\n",
            "\n",
            " [[ 1.58035074  1.03180492 -1.39560592 -0.01366968  0.62185931\n",
            "    1.06583824 -1.38948264]\n",
            "  [ 0.31647709  0.14765664 -0.89696203  0.05851253  0.54481446\n",
            "    0.19470729 -0.89637669]\n",
            "  [-0.19289351 -0.14199347 -0.26694466 -0.06221216 -0.17995136\n",
            "   -0.12300478 -0.27012865]\n",
            "  [-0.17704103 -0.95333868 -0.27807516  0.0491264   0.34143021\n",
            "   -0.91315125 -0.27133018]\n",
            "  [-0.09553394 -1.51161552 -0.06553224 -0.01542552  0.64231386\n",
            "   -1.50367528 -0.04742767]]\n",
            "\n",
            " [[ 0.35311064  1.1168544  -0.50497194  0.02183638  0.51960636\n",
            "    1.13764975 -0.50362719]\n",
            "  [-0.13330641  0.2766097  -0.02747126 -0.15695613  0.22105937\n",
            "    0.28862008 -0.02981293]\n",
            "  [-0.13526063  0.12544591  0.12179473 -0.20036157 -0.04523364\n",
            "    0.11755306  0.110811  ]\n",
            "  [-0.16262281 -0.12747722  0.11151406 -0.16842636  0.06368621\n",
            "   -0.13665121  0.09889117]\n",
            "  [-0.13686866 -0.79564745  0.52643067 -0.05906597  0.86501666\n",
            "   -0.80552345  0.53780374]]\n",
            "\n",
            " [[ 0.00906637  1.04394462  0.14478333 -0.02311102 -0.54115951\n",
            "    1.06080928  0.14157957]\n",
            "  [-0.13477797  0.26429421  0.21058861 -0.1813686  -0.16737694\n",
            "    0.24944445  0.20368379]\n",
            "  [-0.13200488  0.13138827  0.16047151 -0.20063007 -0.02254724\n",
            "    0.12123763  0.1485982 ]\n",
            "  [-0.1284819   0.13493276  0.22350149 -0.19832541  0.04612536\n",
            "    0.11899017  0.21499612]\n",
            "  [-0.18124027  0.2229496   0.996035    0.03975026  1.02295841\n",
            "    0.18872354  0.99283224]]\n",
            "\n",
            " [[ 0.13735742  0.8070069   0.88072496 -0.07496748 -1.01822274\n",
            "    0.80624783  0.87501931]\n",
            "  [-0.2405314   0.27489883  0.76712663 -0.17179901 -1.08949817\n",
            "    0.23567823  0.76440944]\n",
            "  [-0.18220182  0.12844863  0.27000712 -0.2001715  -0.14204814\n",
            "    0.11780279  0.26465845]\n",
            "  [-0.1327165   0.33486518  0.69226192 -0.14079182  0.63142679\n",
            "    0.33307518  0.69706091]\n",
            "  [-0.09592704  0.66451833  1.09891335  0.12581968  1.371273\n",
            "    0.67219741  1.10663953]]]\n",
            "SOM Cluster Assignments (first 10 samples):\n",
            "[17 17  0 17 21 17  7 17 21 17]\n",
            "Kohonen SOM Processing Time: 1.64 seconds\n"
          ]
        }
      ]
    }
  ]
}